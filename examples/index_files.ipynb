{
 "cells": [
  {
   "cell_type": "markdown",
   "metadata": {},
   "source": [
    "# Index files\n",
    "Currently, there are some problems with compiling triads. Will have to fix.\n",
    "\n",
    "NOTE: If a task is stopped early and restarted, resulting in multiple text files, the files should be named according to this structure:\n",
    "1. **[task]-[subj]-[timepoint].txt** OR **[task]-[subj]-[timepoint]\\_1.txt**\n",
    "2. **[task]-[subj]-[timepoint]\\_2.txt**"
   ]
  },
  {
   "cell_type": "code",
   "execution_count": 1,
   "metadata": {
    "collapsed": false
   },
   "outputs": [],
   "source": [
    "from glob import glob\n",
    "from shutil import rmtree\n",
    "import os\n",
    "from os import remove, mkdir, utime\n",
    "from os.path import join, isdir, basename\n",
    "\n",
    "import pandas as pd\n",
    "from convert_eprime import index_eprime_files\n",
    "from convert_eprime.tests.utils import get_test_data_path, get_config_path\n",
    "\n",
    "raw_data_dir = join(get_test_data_path(), 'raw_files')\n",
    "param_file = join(get_config_path(), 'testing_task.json')\n",
    "orged_dir = join(get_test_data_path(), 'organized_files')\n",
    "csv_file = join(orged_dir, 'logger.csv')\n",
    "\n",
    "if not isdir(orged_dir):\n",
    "    mkdir(orged_dir)"
   ]
  },
  {
   "cell_type": "code",
   "execution_count": 2,
   "metadata": {
    "collapsed": true
   },
   "outputs": [],
   "source": [
    "def touch(fname):\n",
    "    with open(fname, 'a'):\n",
    "        utime(fname, None)\n",
    "\n",
    "def list_files(startpath):\n",
    "    for root, dirs, files in os.walk(startpath):\n",
    "        level = root.replace(startpath, '').count(os.sep)\n",
    "        indent = ' ' * 4 * (level)\n",
    "        print('{}{}/'.format(indent, os.path.basename(root)))\n",
    "        subindent = ' ' * 4 * (level + 1)\n",
    "        for f in files:\n",
    "            if not f.startswith('.'):\n",
    "                print('{}{}'.format(subindent, f))"
   ]
  },
  {
   "cell_type": "code",
   "execution_count": 3,
   "metadata": {
    "collapsed": false
   },
   "outputs": [
    {
     "name": "stdout",
     "output_type": "stream",
     "text": [
      "raw_files/\n",
      "    StopSignal-sub001-1.edat2\n",
      "    StopSignal-sub001-1.txt\n",
      "    StopSignal-sub001-2.edat2\n",
      "    StopSignal-sub001-2.txt\n",
      "    StopSignal-sub002-1.edat2\n",
      "    StopSignal-sub002-1.txt\n",
      "    StopSignal-sub002-2.txt\n",
      "    StopSignal-sub002-2_2.txt\n",
      "    StopSignal-sub003-1.txt\n",
      "    StopSignal-sub003-2.edat2\n",
      "    StopSignal-sub004-1.edat2\n",
      "    StopSignal-sub004-1.txt\n",
      "    StopSignal-sub005-1.edat2\n",
      "    StopSignal-sub005-1.txt\n",
      "    StopSignal-sub005-1_2.txt\n"
     ]
    }
   ],
   "source": [
    "raw_files = sorted(glob(join(raw_data_dir, '*.*')))\n",
    "list_files(raw_data_dir)"
   ]
  },
  {
   "cell_type": "code",
   "execution_count": 4,
   "metadata": {
    "collapsed": false
   },
   "outputs": [
    {
     "name": "stdout",
     "output_type": "stream",
     "text": [
      "Processing sub002- post\n",
      "\tSuccessfully organized\n",
      "\tCouldn't be converted.\n",
      "Processing sub003- pre\n",
      "\tSuccessfully organized\n",
      "\tCouldn't be converted.\n",
      "Processing sub002- pre\n",
      "\tSuccessfully organized\n",
      "\tCouldn't be converted.\n",
      "Processing sub005- pre\n",
      "\tSuccessfully organized\n",
      "\tCouldn't be converted.\n",
      "Processing sub001- pre\n",
      "\tSuccessfully organized\n",
      "\tSuccessfully converted\n",
      "Processing sub001- post\n",
      "\tSuccessfully organized\n",
      "\tSuccessfully converted\n",
      "Processing sub004- pre\n",
      "\tSuccessfully organized\n",
      "\tSuccessfully converted\n",
      "Processing sub003- post\n",
      "\tSuccessfully organized\n",
      "\tCouldn't be converted.\n"
     ]
    }
   ],
   "source": [
    "# Organize files. Conversion is not currently implemented.\n",
    "index_eprime_files.main(raw_data_dir, csv_file, param_file)"
   ]
  },
  {
   "cell_type": "code",
   "execution_count": 5,
   "metadata": {
    "collapsed": false
   },
   "outputs": [
    {
     "name": "stdout",
     "output_type": "stream",
     "text": [
      "organized_files/\n",
      "    logger.csv\n",
      "    sub001/\n",
      "        post/\n",
      "            StopSignal-sub001-2.edat2\n",
      "            StopSignal-sub001-2.txt\n",
      "        pre/\n",
      "            StopSignal-sub001-1.edat2\n",
      "            StopSignal-sub001-1.txt\n",
      "    sub002/\n",
      "        post/\n",
      "            StopSignal-sub002-2_2.txt\n",
      "        pre/\n",
      "            StopSignal-sub002-1.edat2\n",
      "            StopSignal-sub002-1.txt\n",
      "            StopSignal-sub002-2.txt\n",
      "    sub003/\n",
      "        post/\n",
      "            StopSignal-sub003-2.edat2\n",
      "        pre/\n",
      "            StopSignal-sub003-1.txt\n",
      "    sub004/\n",
      "        pre/\n",
      "            StopSignal-sub004-1.edat2\n",
      "            StopSignal-sub004-1.txt\n",
      "    sub005/\n",
      "        pre/\n",
      "            StopSignal-sub005-1.edat2\n",
      "            StopSignal-sub005-1.txt\n",
      "            StopSignal-sub005-1_2.txt\n"
     ]
    }
   ],
   "source": [
    "# Show organized files\n",
    "list_files(orged_dir)"
   ]
  },
  {
   "cell_type": "code",
   "execution_count": 6,
   "metadata": {
    "collapsed": false
   },
   "outputs": [
    {
     "data": {
      "text/html": [
       "<div>\n",
       "<table border=\"1\" class=\"dataframe\">\n",
       "  <thead>\n",
       "    <tr style=\"text-align: right;\">\n",
       "      <th></th>\n",
       "      <th>Subject</th>\n",
       "      <th>Timepoint</th>\n",
       "      <th>Organized</th>\n",
       "      <th>Date_Organized</th>\n",
       "      <th>Organized_by</th>\n",
       "      <th>Converted</th>\n",
       "      <th>Date_Converted</th>\n",
       "      <th>Converted_by</th>\n",
       "      <th>Notes</th>\n",
       "    </tr>\n",
       "  </thead>\n",
       "  <tbody>\n",
       "    <tr>\n",
       "      <th>4</th>\n",
       "      <td>sub001</td>\n",
       "      <td>pre</td>\n",
       "      <td>True</td>\n",
       "      <td>2017/08/01</td>\n",
       "      <td>PY</td>\n",
       "      <td>True</td>\n",
       "      <td>2017/08/01</td>\n",
       "      <td>PY</td>\n",
       "      <td>All good.</td>\n",
       "    </tr>\n",
       "    <tr>\n",
       "      <th>5</th>\n",
       "      <td>sub001</td>\n",
       "      <td>post</td>\n",
       "      <td>True</td>\n",
       "      <td>2017/08/01</td>\n",
       "      <td>PY</td>\n",
       "      <td>True</td>\n",
       "      <td>2017/08/01</td>\n",
       "      <td>PY</td>\n",
       "      <td>All good.</td>\n",
       "    </tr>\n",
       "    <tr>\n",
       "      <th>2</th>\n",
       "      <td>sub002</td>\n",
       "      <td>pre</td>\n",
       "      <td>True</td>\n",
       "      <td>2017/08/01</td>\n",
       "      <td>PY</td>\n",
       "      <td>False</td>\n",
       "      <td>NaN</td>\n",
       "      <td>NaN</td>\n",
       "      <td>One edat and two text files- it's a thinker.</td>\n",
       "    </tr>\n",
       "    <tr>\n",
       "      <th>0</th>\n",
       "      <td>sub002</td>\n",
       "      <td>post</td>\n",
       "      <td>True</td>\n",
       "      <td>2017/08/01</td>\n",
       "      <td>PY</td>\n",
       "      <td>False</td>\n",
       "      <td>NaN</td>\n",
       "      <td>NaN</td>\n",
       "      <td>One text file- must be recovered.</td>\n",
       "    </tr>\n",
       "    <tr>\n",
       "      <th>1</th>\n",
       "      <td>sub003</td>\n",
       "      <td>pre</td>\n",
       "      <td>True</td>\n",
       "      <td>2017/08/01</td>\n",
       "      <td>PY</td>\n",
       "      <td>False</td>\n",
       "      <td>NaN</td>\n",
       "      <td>NaN</td>\n",
       "      <td>One text file- must be recovered.</td>\n",
       "    </tr>\n",
       "    <tr>\n",
       "      <th>7</th>\n",
       "      <td>sub003</td>\n",
       "      <td>post</td>\n",
       "      <td>True</td>\n",
       "      <td>2017/08/01</td>\n",
       "      <td>PY</td>\n",
       "      <td>False</td>\n",
       "      <td>NaN</td>\n",
       "      <td>NaN</td>\n",
       "      <td>One edat and no text file(s)- unknown problem.</td>\n",
       "    </tr>\n",
       "    <tr>\n",
       "      <th>6</th>\n",
       "      <td>sub004</td>\n",
       "      <td>pre</td>\n",
       "      <td>True</td>\n",
       "      <td>2017/08/01</td>\n",
       "      <td>PY</td>\n",
       "      <td>True</td>\n",
       "      <td>2017/08/01</td>\n",
       "      <td>PY</td>\n",
       "      <td>All good.</td>\n",
       "    </tr>\n",
       "    <tr>\n",
       "      <th>3</th>\n",
       "      <td>sub005</td>\n",
       "      <td>pre</td>\n",
       "      <td>True</td>\n",
       "      <td>2017/08/01</td>\n",
       "      <td>PY</td>\n",
       "      <td>False</td>\n",
       "      <td>NaN</td>\n",
       "      <td>NaN</td>\n",
       "      <td>One edat and two text files- it's a thinker.</td>\n",
       "    </tr>\n",
       "  </tbody>\n",
       "</table>\n",
       "</div>"
      ],
      "text/plain": [
       "  Subject Timepoint Organized Date_Organized Organized_by Converted  \\\n",
       "4  sub001       pre      True     2017/08/01           PY      True   \n",
       "5  sub001      post      True     2017/08/01           PY      True   \n",
       "2  sub002       pre      True     2017/08/01           PY     False   \n",
       "0  sub002      post      True     2017/08/01           PY     False   \n",
       "1  sub003       pre      True     2017/08/01           PY     False   \n",
       "7  sub003      post      True     2017/08/01           PY     False   \n",
       "6  sub004       pre      True     2017/08/01           PY      True   \n",
       "3  sub005       pre      True     2017/08/01           PY     False   \n",
       "\n",
       "  Date_Converted Converted_by                                           Notes  \n",
       "4     2017/08/01           PY                                       All good.  \n",
       "5     2017/08/01           PY                                       All good.  \n",
       "2            NaN          NaN    One edat and two text files- it's a thinker.  \n",
       "0            NaN          NaN               One text file- must be recovered.  \n",
       "1            NaN          NaN               One text file- must be recovered.  \n",
       "7            NaN          NaN  One edat and no text file(s)- unknown problem.  \n",
       "6     2017/08/01           PY                                       All good.  \n",
       "3            NaN          NaN    One edat and two text files- it's a thinker.  "
      ]
     },
     "execution_count": 6,
     "metadata": {},
     "output_type": "execute_result"
    }
   ],
   "source": [
    "df = pd.read_csv(csv_file)\n",
    "df.sort_values(by=['Subject', 'Timepoint'],\n",
    "               ascending=[True, False])"
   ]
  },
  {
   "cell_type": "code",
   "execution_count": 7,
   "metadata": {
    "collapsed": false
   },
   "outputs": [],
   "source": [
    "# Post-example cleanup\n",
    "# Create the old raw files\n",
    "for f in raw_files:\n",
    "    touch(f)\n",
    "\n",
    "# Remove the \"done\" subfolder\n",
    "rmtree(join(raw_data_dir, 'done'))\n",
    "\n",
    "# Remove the organized files\n",
    "rmtree(orged_dir)\n",
    "mkdir(orged_dir)"
   ]
  }
 ],
 "metadata": {
  "anaconda-cloud": {},
  "kernelspec": {
   "display_name": "Python [default]",
   "language": "python",
   "name": "python2"
  },
  "language_info": {
   "codemirror_mode": {
    "name": "ipython",
    "version": 2
   },
   "file_extension": ".py",
   "mimetype": "text/x-python",
   "name": "python",
   "nbconvert_exporter": "python",
   "pygments_lexer": "ipython2",
   "version": "2.7.12"
  }
 },
 "nbformat": 4,
 "nbformat_minor": 1
}
