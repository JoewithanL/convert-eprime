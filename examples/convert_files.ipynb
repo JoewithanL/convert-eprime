{
 "cells": [
  {
   "cell_type": "markdown",
   "metadata": {},
   "source": [
    "# Convert E-Prime output files to more manageable formats"
   ]
  },
  {
   "cell_type": "code",
   "execution_count": null,
   "metadata": {
    "collapsed": true
   },
   "outputs": [],
   "source": [
    "from os import remove"
   ]
  },
  {
   "cell_type": "markdown",
   "metadata": {},
   "source": [
    "## Convert a raw E-Prime output text file to csv\n",
    "The text files automatically outputted by E-Prime contain all of the information available in the edat file, although the data are in an unusual format that cannot be used directly. The function text_to_csv reads the data from the text file into a pandas DataFrame and writes the DataFrame out to a file without manipulating the data."
   ]
  },
  {
   "cell_type": "code",
   "execution_count": 2,
   "metadata": {
    "collapsed": false
   },
   "outputs": [],
   "source": [
    "from convert_eprime.convert import text_to_csv\n",
    "\n",
    "text_file = ''\n",
    "out_file = ''\n",
    "\n",
    "with open(text_file, 'r') as fo:\n",
    "    raw_data = fo.readline()[:10]\n",
    "    raw_data = [l.rstrip() for l in raw_data]\n",
    "\n",
    "print('The raw text file:')\n",
    "for l in raw_data:\n",
    "    print(l)\n",
    "print('')\n",
    "\n",
    "text_to_csv(text_file, out_file)\n",
    "df = pd.read_csv(out_file)\n",
    "print('The converted csv file:')\n",
    "print(df.head(10))\n",
    "\n",
    "remove(out_file)"
   ]
  },
  {
   "cell_type": "markdown",
   "metadata": {},
   "source": [
    "## Convert a raw E-Prime output text file to reduced csv\n",
    "The text files automatically outputted by E-Prime contain all of the information available in the edat file, but sometimes the desired columns (the ones from the edat file) may be named differently in the text file, or may be split into multiple columns. The function `text_to_rcsv` (text to reduced csv) reads the data from the text file into a pandas DataFrame, just like `text_to_csv`, but then goes a step further and performs a series of operations on the DataFrame based on a parameters file specific to the task.\n",
    "\n",
    "These operations include:\n",
    "- Renaming columns\n",
    "- Merging data from multiple columns into new ones\n",
    "- Reducing the rows of the DataFrame based on NaNs in one or more columns\n",
    "- Reducing the columns of the DataFrame based on a desired subset"
   ]
  },
  {
   "cell_type": "code",
   "execution_count": 4,
   "metadata": {
    "collapsed": true
   },
   "outputs": [],
   "source": [
    "from convert_eprime.convert import text_to_rcsv\n",
    "\n",
    "text_file = ''\n",
    "edat_file = ''\n",
    "param_file = ''\n",
    "out_file = ''\n",
    "\n",
    "with open(text_file, 'r') as fo:\n",
    "    raw_data = fo.readline()[:10]\n",
    "    raw_data = [l.rstrip() for l in raw_data]\n",
    "\n",
    "print('The raw text file:')\n",
    "for l in raw_data:\n",
    "    print(l)\n",
    "print('')\n",
    "\n",
    "text_to_rcsv(text_file, edat_file, param_file, out_file)\n",
    "df = pd.read_csv(out_file)\n",
    "print('The converted and reduced csv file:')\n",
    "print(df.head(10))\n",
    "\n",
    "remove(out_file)"
   ]
  },
  {
   "cell_type": "markdown",
   "metadata": {},
   "source": [
    "## Convert an exported E-Prime text file to a reduced csv\n",
    "The standard steps for preparing behavioral data from E-Prime for analysis are: (1) open the edat file with **E-DataAid**, (2) export the file as an \"E-Prime text\" file (a tab-delimited text file with three empty rows at the top), (3) convert the resulting text file to csv format, and (4) reduce the csv file based on which columns are relevant for analysis.\n",
    "\n",
    "The function `etext_to_rcsv` (E-Prime text to reduced csv) simply reads in the \"E-Prime text\" file as a pandas DataFrame, reduces the columns of the DataFrame based on a parameters file specific to the task, and writes out the data to a csv file."
   ]
  },
  {
   "cell_type": "code",
   "execution_count": 5,
   "metadata": {
    "collapsed": true
   },
   "outputs": [],
   "source": [
    "from convert_eprime.convert import etext_to_rcsv\n",
    "\n",
    "etext_file = ''\n",
    "out_file = ''\n",
    "\n",
    "etext_df = pd.read_csv(etext_file, sep='\\t')\n",
    "print('The E-Prime text file:')\n",
    "print(etext_df.head(10))\n",
    "\n",
    "etext_to_rcsv(text_file, out_file)\n",
    "df = pd.read_csv(out_file)\n",
    "print('The converted and reduced csv file:')\n",
    "print(df.head(10))\n",
    "\n",
    "remove(out_file)"
   ]
  }
 ],
 "metadata": {
  "anaconda-cloud": {},
  "kernelspec": {
   "display_name": "Python [default]",
   "language": "python",
   "name": "python2"
  },
  "language_info": {
   "codemirror_mode": {
    "name": "ipython",
    "version": 2
   },
   "file_extension": ".py",
   "mimetype": "text/x-python",
   "name": "python",
   "nbconvert_exporter": "python",
   "pygments_lexer": "ipython2",
   "version": "2.7.12"
  }
 },
 "nbformat": 4,
 "nbformat_minor": 1
}
